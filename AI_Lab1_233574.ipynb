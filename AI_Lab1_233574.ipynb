{
  "nbformat": 4,
  "nbformat_minor": 0,
  "metadata": {
    "colab": {
      "provenance": [],
      "include_colab_link": true
    },
    "kernelspec": {
      "name": "python3",
      "display_name": "Python 3"
    },
    "language_info": {
      "name": "python"
    }
  },
  "cells": [
    {
      "cell_type": "markdown",
      "metadata": {
        "id": "view-in-github",
        "colab_type": "text"
      },
      "source": [
        "<a href=\"https://colab.research.google.com/github/faizanali02/googlecolab/blob/main/AI_Lab1_233574.ipynb\" target=\"_parent\"><img src=\"https://colab.research.google.com/assets/colab-badge.svg\" alt=\"Open In Colab\"/></a>"
      ]
    },
    {
      "cell_type": "code",
      "execution_count": 26,
      "metadata": {
        "colab": {
          "base_uri": "https://localhost:8080/"
        },
        "id": "znJzNnvc5RYp",
        "outputId": "a75b1170-9d43-4002-86b4-ed35f4aec6e1"
      },
      "outputs": [
        {
          "output_type": "stream",
          "name": "stdout",
          "text": [
            "Python 3.12.11\n"
          ]
        }
      ],
      "source": [
        "! python --version\n",
        "\n"
      ]
    },
    {
      "cell_type": "code",
      "source": [
        "# Step 1: Create a list with different data types (string, float, string,integer)\n",
        "mylist = [\"apple\", 34.5, \"banana\", 9]\n",
        "\n",
        "# Step 2: Print the entire list to verify its contents\n",
        "print(\"Complete list:\", mylist)\n",
        "\n",
        "# Step 3: Access and print the first element (index 0)\n",
        "print(\"First element:\", mylist[0])\n",
        "\n",
        "# Step 4: Access and print the last element using negative indexing\n",
        "\n",
        "print(\"Last element:\", mylist[-1])\n",
        "\n",
        "# Step 6: Extract and print every second element using step in slicing\n",
        "print(\"Every second element:\", mylist[::2])\n",
        "\n",
        "\n",
        "# Step 8: Append a new item to the list\n",
        "mylist.append(\"grape\")\n",
        "print(\"List after appending 'grape':\", mylist)\n",
        "\n",
        "# Step 9: Remove a specific item from the list\n",
        "mylist.remove(\"banana\")\n",
        "print(\"List after removing 'banana':\", mylist)\n",
        "\n",
        "# Step 10: Replace the value at index 1 with a new value\n",
        "mylist[1] = 99.9\n",
        "print(\"List after updating index 1:\", mylist)"
      ],
      "metadata": {
        "colab": {
          "base_uri": "https://localhost:8080/"
        },
        "id": "SQbS6nmuH_jM",
        "outputId": "6acfe592-79bf-48f9-e7e6-cf9f8c5a1909"
      },
      "execution_count": 27,
      "outputs": [
        {
          "output_type": "stream",
          "name": "stdout",
          "text": [
            "Complete list: ['apple', 34.5, 'banana', 9]\n",
            "First element: apple\n",
            "Last element: 9\n",
            "Every second element: ['apple', 'banana']\n",
            "List after appending 'grape': ['apple', 34.5, 'banana', 9, 'grape']\n",
            "List after removing 'banana': ['apple', 34.5, 9, 'grape']\n",
            "List after updating index 1: ['apple', 99.9, 9, 'grape']\n"
          ]
        }
      ]
    },
    {
      "cell_type": "markdown",
      "source": [
        " 1. Write a program to check if a number is prime."
      ],
      "metadata": {
        "id": "LYj01kXhKQvJ"
      }
    },
    {
      "cell_type": "code",
      "source": [
        "def is_prime(n):\n",
        "    if n <= 1:\n",
        "        return False\n",
        "    for i in range(2, int(n**0.5) + 1):\n",
        "        if n % i == 0:\n",
        "            return False\n",
        "    return True\n",
        "\n",
        "# Example test\n",
        "num = 20\n",
        "print(f\"Is {num} prime? ->\", is_prime(num))"
      ],
      "metadata": {
        "colab": {
          "base_uri": "https://localhost:8080/"
        },
        "id": "z63uPo7JKbZx",
        "outputId": "839633aa-4d63-4ac8-eaf0-074eb8382176"
      },
      "execution_count": 28,
      "outputs": [
        {
          "output_type": "stream",
          "name": "stdout",
          "text": [
            "Is 20 prime? -> False\n"
          ]
        }
      ]
    },
    {
      "cell_type": "markdown",
      "source": [
        "2. Create a list of 10 numbers and print their average."
      ],
      "metadata": {
        "id": "8pwmDnotKrtA"
      }
    },
    {
      "cell_type": "code",
      "source": [
        "numbers = [5, 10, 15, 20, 25, 30, 35, 40, 45, 50]\n",
        "average = sum(numbers) / len(numbers)\n",
        "print(\"Numbers:\", numbers)\n",
        "print(\"Average:\", average)"
      ],
      "metadata": {
        "colab": {
          "base_uri": "https://localhost:8080/"
        },
        "id": "XpqHueR9KsJZ",
        "outputId": "7791bd81-9f3a-439a-d1e0-223b656694c4"
      },
      "execution_count": 29,
      "outputs": [
        {
          "output_type": "stream",
          "name": "stdout",
          "text": [
            "Numbers: [5, 10, 15, 20, 25, 30, 35, 40, 45, 50]\n",
            "Average: 27.5\n"
          ]
        }
      ]
    },
    {
      "cell_type": "markdown",
      "source": [
        "3. Store student names and marks in a dictionary and display the topper."
      ],
      "metadata": {
        "id": "VoRBN4LCLAY2"
      }
    },
    {
      "cell_type": "code",
      "source": [
        "students = {\n",
        "    \"Alice\": 88,\n",
        "    \"Bob\": 92,\n",
        "    \"Charlie\": 79,\n",
        "    \"David\": 95,\n",
        "    \"Eve\": 91\n",
        "}\n",
        "\n",
        "topper = max(students, key=students.get)\n",
        "print(\"Students and marks:\", students)\n",
        "print(\"Topper:\", topper, \"with marks\", students[topper])"
      ],
      "metadata": {
        "colab": {
          "base_uri": "https://localhost:8080/"
        },
        "id": "0MF6gUBmLA4v",
        "outputId": "fae1b260-2f2c-4b48-8c2f-d90674c71868"
      },
      "execution_count": 30,
      "outputs": [
        {
          "output_type": "stream",
          "name": "stdout",
          "text": [
            "Students and marks: {'Alice': 88, 'Bob': 92, 'Charlie': 79, 'David': 95, 'Eve': 91}\n",
            "Topper: David with marks 95\n"
          ]
        }
      ]
    },
    {
      "cell_type": "markdown",
      "source": [
        "4. Demonstrate set operations: union, intersection, difference."
      ],
      "metadata": {
        "id": "QvAvv7zELjQz"
      }
    },
    {
      "cell_type": "code",
      "source": [
        "set1 = {1, 2, 3, 4, 5}\n",
        "set2 = {4, 5, 6, 7, 8}\n",
        "\n",
        "print(\"Set 1:\", set1)\n",
        "print(\"Set 2:\", set2)\n",
        "print(\"Union:\", set1 | set2)\n",
        "print(\"Intersection:\", set1 & set2)\n",
        "print(\"Difference (set1 - set2):\", set1 - set2)\n",
        "print(\"Difference (set2 - set1):\", set2 - set1)"
      ],
      "metadata": {
        "colab": {
          "base_uri": "https://localhost:8080/"
        },
        "id": "LrzlY7rDLjtz",
        "outputId": "908aa3fe-5a69-4502-d3e0-163d29e2fb3c"
      },
      "execution_count": 31,
      "outputs": [
        {
          "output_type": "stream",
          "name": "stdout",
          "text": [
            "Set 1: {1, 2, 3, 4, 5}\n",
            "Set 2: {4, 5, 6, 7, 8}\n",
            "Union: {1, 2, 3, 4, 5, 6, 7, 8}\n",
            "Intersection: {4, 5}\n",
            "Difference (set1 - set2): {1, 2, 3}\n",
            "Difference (set2 - set1): {8, 6, 7}\n"
          ]
        }
      ]
    },
    {
      "cell_type": "markdown",
      "source": [
        "5. Write a function to compute factorial using recursion."
      ],
      "metadata": {
        "id": "Qe8SWD4cMIgK"
      }
    },
    {
      "cell_type": "code",
      "source": [
        "def factorial(n):\n",
        "    if n == 0 or n == 1:\n",
        "        return 1\n",
        "    return n * factorial(n - 1)\n",
        "\n",
        "num = 6\n",
        "print(f\"Factorial of {num} is\", factorial(num))"
      ],
      "metadata": {
        "colab": {
          "base_uri": "https://localhost:8080/"
        },
        "id": "hQ_V2Zy5MMDB",
        "outputId": "29842fe3-d038-4fa2-9980-4141e7c0f65b"
      },
      "execution_count": 32,
      "outputs": [
        {
          "output_type": "stream",
          "name": "stdout",
          "text": [
            "Factorial of 6 is 720\n"
          ]
        }
      ]
    },
    {
      "cell_type": "markdown",
      "source": [
        "6. Use a for loop to print the Fibonacci series up to n terms."
      ],
      "metadata": {
        "id": "bkhS2gAdMQs5"
      }
    },
    {
      "cell_type": "code",
      "source": [
        "n = 10  # number of terms\n",
        "a, b = 0, 1\n",
        "\n",
        "print(\"Fibonacci series up to\", n, \"terms:\")\n",
        "for _ in range(n):\n",
        "    print(a, end=\" \")\n",
        "    a, b = b, a + b"
      ],
      "metadata": {
        "colab": {
          "base_uri": "https://localhost:8080/"
        },
        "id": "_vVxEMEwMY8R",
        "outputId": "c2c39ca2-07a3-4c87-8f65-65f427908326"
      },
      "execution_count": 33,
      "outputs": [
        {
          "output_type": "stream",
          "name": "stdout",
          "text": [
            "Fibonacci series up to 10 terms:\n",
            "0 1 1 2 3 5 8 13 21 34 "
          ]
        }
      ]
    },
    {
      "cell_type": "markdown",
      "source": [
        "7. Read a string and count the number of vowels."
      ],
      "metadata": {
        "id": "5CG644nQMim5"
      }
    },
    {
      "cell_type": "code",
      "source": [
        "text = \"Google Colab makes Python super handy\"\n",
        "vowels = \"aeiouAEIOU\"\n",
        "count = sum(1 for char in text if char in vowels)\n",
        "\n",
        "print(\"Input string:\", text)\n",
        "print(\"Number of vowels:\", count)"
      ],
      "metadata": {
        "colab": {
          "base_uri": "https://localhost:8080/"
        },
        "id": "AGw03H_4MlpZ",
        "outputId": "c7f614a5-6337-4ae2-bda2-dbba84029408"
      },
      "execution_count": 34,
      "outputs": [
        {
          "output_type": "stream",
          "name": "stdout",
          "text": [
            "Input string: Google Colab makes Python super handy\n",
            "Number of vowels: 11\n"
          ]
        }
      ]
    },
    {
      "cell_type": "markdown",
      "source": [
        "8. Create a tuple of numbers and find the maximum and minimum."
      ],
      "metadata": {
        "id": "dY-fhk9TM-fh"
      }
    },
    {
      "cell_type": "code",
      "source": [
        "numbers_tuple = (12, 45, 67, 2, 34, 89, 23)\n",
        "print(\"Numbers in tuple:\", numbers_tuple)\n",
        "print(\"Maximum:\", max(numbers_tuple))\n",
        "print(\"Minimum:\", min(numbers_tuple))"
      ],
      "metadata": {
        "colab": {
          "base_uri": "https://localhost:8080/"
        },
        "id": "W0f45ixbNF2J",
        "outputId": "a90cdc95-c788-42f6-d1b7-7b30b3be9773"
      },
      "execution_count": 35,
      "outputs": [
        {
          "output_type": "stream",
          "name": "stdout",
          "text": [
            "Numbers in tuple: (12, 45, 67, 2, 34, 89, 23)\n",
            "Maximum: 89\n",
            "Minimum: 2\n"
          ]
        }
      ]
    },
    {
      "cell_type": "markdown",
      "source": [
        "9. Create a program that asks for user input and reverses the string."
      ],
      "metadata": {
        "id": "oFmpemnoNNLp"
      }
    },
    {
      "cell_type": "code",
      "source": [
        "user_input = input(\"Enter a string: \")\n",
        "reversed_string = user_input[::-1]\n",
        "print(\"Reversed string:\", reversed_string)"
      ],
      "metadata": {
        "colab": {
          "base_uri": "https://localhost:8080/"
        },
        "id": "KnJGL4-2NXzZ",
        "outputId": "ff3bc9f8-ad53-4850-93c1-fae233590b01"
      },
      "execution_count": 36,
      "outputs": [
        {
          "output_type": "stream",
          "name": "stdout",
          "text": [
            "Enter a string: Faizan Ali\n",
            "Reversed string: ilA naziaF\n"
          ]
        }
      ]
    },
    {
      "cell_type": "markdown",
      "source": [],
      "metadata": {
        "id": "wKn_3ATdRsv1"
      }
    },
    {
      "cell_type": "code",
      "source": [
        "print(1 + 3)\n",
        "print(10 / 2)\n",
        "print(5 * 2)"
      ],
      "metadata": {
        "id": "je6rbCRnR80W",
        "outputId": "1af28258-89cc-4201-d95e-772e42368a6f",
        "colab": {
          "base_uri": "https://localhost:8080/"
        }
      },
      "execution_count": 37,
      "outputs": [
        {
          "output_type": "stream",
          "name": "stdout",
          "text": [
            "4\n",
            "5.0\n",
            "10\n"
          ]
        }
      ]
    }
  ]
}