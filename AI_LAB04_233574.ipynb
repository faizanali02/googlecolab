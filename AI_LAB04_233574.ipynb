{
  "nbformat": 4,
  "nbformat_minor": 0,
  "metadata": {
    "colab": {
      "provenance": [],
      "authorship_tag": "ABX9TyOtjCZwMyRPn7WyLAhzAwJv",
      "include_colab_link": true
    },
    "kernelspec": {
      "name": "python3",
      "display_name": "Python 3"
    },
    "language_info": {
      "name": "python"
    }
  },
  "cells": [
    {
      "cell_type": "markdown",
      "metadata": {
        "id": "view-in-github",
        "colab_type": "text"
      },
      "source": [
        "<a href=\"https://colab.research.google.com/github/faizanali02/googlecolab/blob/main/AI_LAB04_233574.ipynb\" target=\"_parent\"><img src=\"https://colab.research.google.com/assets/colab-badge.svg\" alt=\"Open In Colab\"/></a>"
      ]
    },
    {
      "cell_type": "code",
      "execution_count": 3,
      "metadata": {
        "id": "XqKIx7NmAQNb"
      },
      "outputs": [],
      "source": [
        "initial_state = 'A'\n",
        "goal_state = 'D'"
      ]
    },
    {
      "cell_type": "code",
      "source": [
        "class Problem:\n",
        "def __init__(self, initial, goal):\n",
        "self.initial = initial\n",
        "self.goal = goal\n",
        "def actions(self, state):\n",
        "\"\"\"Return possible actions for a given state.\"\"\"\n",
        "raise NotImplementedError\n",
        "def result(self, state, action):\n",
        "\"\"\"Return new state after applying an action.\"\"\"\n",
        "raise NotImplementedError\n",
        "def goal_test(self, state):\n",
        "\"\"\"Check if goal is reached.\"\"\"\n",
        "return state == self.goal"
      ],
      "metadata": {
        "id": "m6qmXFfXA9_U"
      },
      "execution_count": null,
      "outputs": []
    }
  ]
}