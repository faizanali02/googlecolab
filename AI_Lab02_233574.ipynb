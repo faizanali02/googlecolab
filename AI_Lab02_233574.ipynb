{
  "nbformat": 4,
  "nbformat_minor": 0,
  "metadata": {
    "colab": {
      "provenance": [],
      "authorship_tag": "ABX9TyO/LPCPLLM6AuN0tPi0hR+9",
      "include_colab_link": true
    },
    "kernelspec": {
      "name": "python3",
      "display_name": "Python 3"
    },
    "language_info": {
      "name": "python"
    }
  },
  "cells": [
    {
      "cell_type": "markdown",
      "metadata": {
        "id": "view-in-github",
        "colab_type": "text"
      },
      "source": [
        "<a href=\"https://colab.research.google.com/github/faizanali02/googlecolab/blob/main/AI_Lab02_233574.ipynb\" target=\"_parent\"><img src=\"https://colab.research.google.com/assets/colab-badge.svg\" alt=\"Open In Colab\"/></a>"
      ]
    },
    {
      "cell_type": "code",
      "execution_count": null,
      "metadata": {
        "id": "DCokJTUB_zel"
      },
      "outputs": [],
      "source": [
        "# Create a sample source.txt file\n",
        "with open(\"source.txt\", \"w\") as f:\n",
        "    f.write(\"This is the original content.\\n\")\n",
        "    f.write(\"Second line of text.\")\n"
      ]
    },
    {
      "cell_type": "code",
      "source": [
        "def copy_file(src, dest):\n",
        "    try:\n",
        "        with open(src, \"r\", encoding=\"utf-8\") as infile, open(dest, \"w\", encoding=\"utf-8\") as outfile:\n",
        "            outfile.write(infile.read())\n",
        "        print(f\"Copied content from {src} to {dest}\")\n",
        "    except FileNotFoundError:\n",
        "        print(f\"Error: {src} not found.\")\n",
        "\n",
        "# Test\n",
        "copy_file(\"source.txt\", \"backup.txt\")\n"
      ],
      "metadata": {
        "colab": {
          "base_uri": "https://localhost:8080/"
        },
        "id": "3vMPca6cAjEW",
        "outputId": "699cb4db-a610-4de1-ae2a-d30bce9653c2"
      },
      "execution_count": null,
      "outputs": [
        {
          "output_type": "stream",
          "name": "stdout",
          "text": [
            "Copied content from source.txt to backup.txt\n"
          ]
        }
      ]
    },
    {
      "cell_type": "code",
      "source": [
        "def word_count(filename):\n",
        "    try:\n",
        "        with open(filename, \"r\", encoding=\"utf-8\") as f:\n",
        "            text = f.read()\n",
        "            words = text.split()\n",
        "            print(f\"Word count: {len(words)}\")\n",
        "    except FileNotFoundError:\n",
        "        print(\"File not found!\")\n",
        "\n",
        "# Test\n",
        "word_count(\"source.txt\")\n"
      ],
      "metadata": {
        "colab": {
          "base_uri": "https://localhost:8080/"
        },
        "id": "Oypot0QlAlYN",
        "outputId": "2d3049de-d591-4a84-980c-56ab447faa12"
      },
      "execution_count": null,
      "outputs": [
        {
          "output_type": "stream",
          "name": "stdout",
          "text": [
            "Word count: 9\n"
          ]
        }
      ]
    },
    {
      "cell_type": "code",
      "source": [
        "filename = input(\"Enter marks file name: \")\n",
        "\n",
        "try:\n",
        "    with open(filename, \"r\", encoding=\"utf-8\") as f:\n",
        "        print(\"File Content:\\n\", f.read())\n",
        "except FileNotFoundError:\n",
        "    with open(filename, \"w\", encoding=\"utf-8\") as f:\n",
        "        f.write(\"No marks recorded\")\n",
        "    print(f\"{filename} not found, so created with default message.\")\n"
      ],
      "metadata": {
        "colab": {
          "base_uri": "https://localhost:8080/"
        },
        "id": "IkkHtNlHAoLi",
        "outputId": "b019a71a-494e-4bae-ccb6-7d012c63a44e"
      },
      "execution_count": 11,
      "outputs": [
        {
          "output_type": "stream",
          "name": "stdout",
          "text": [
            "Enter marks file name: marks.csv\n",
            "marks.csv not found, so created with default message.\n"
          ]
        }
      ]
    },
    {
      "cell_type": "code",
      "source": [
        "def safe_division():\n",
        "    try:\n",
        "        a = float(input(\"Enter first number: \"))\n",
        "        b = float(input(\"Enter second number: \"))\n",
        "        result = a / b\n",
        "        with open(\"division_result.txt\", \"w\", encoding=\"utf-8\") as f:\n",
        "            f.write(f\"Result: {result}\")\n",
        "        print(\"Division successful. Result saved to division_result.txt\")\n",
        "    except ZeroDivisionError:\n",
        "        print(\"Error: Cannot divide by zero.\")\n",
        "    except ValueError:\n",
        "        print(\"Error: Please enter valid numbers.\")\n",
        "\n",
        "safe_division()\n"
      ],
      "metadata": {
        "colab": {
          "base_uri": "https://localhost:8080/"
        },
        "id": "nMHyED67A2R7",
        "outputId": "c81a1b07-0649-458f-aba7-cf03b88077af"
      },
      "execution_count": null,
      "outputs": [
        {
          "output_type": "stream",
          "name": "stdout",
          "text": [
            "Enter first number: 1\n",
            "Enter second number: 5\n",
            "Division successful. Result saved to division_result.txt\n"
          ]
        }
      ]
    },
    {
      "cell_type": "code",
      "source": [
        "import logging\n",
        "\n",
        "logging.basicConfig(filename=\"errors.log\", level=logging.ERROR,\n",
        "                    format=\"%(asctime)s - %(levelname)s - %(message)s\")\n",
        "\n",
        "def risky_task():\n",
        "    try:\n",
        "        num = int(input(\"Enter a number: \"))\n",
        "        print(\"100 / num =\", 100 / num)\n",
        "    except Exception as e:\n",
        "        logging.error(f\"Error occurred: {e}\")\n",
        "        print(f\"Email sent to admin: {e}\")\n",
        "\n",
        "risky_task()\n"
      ],
      "metadata": {
        "colab": {
          "base_uri": "https://localhost:8080/"
        },
        "id": "YAw-am0FA-Oh",
        "outputId": "83b3ef37-1c0b-47a0-e900-23960f388d5d"
      },
      "execution_count": null,
      "outputs": [
        {
          "output_type": "stream",
          "name": "stdout",
          "text": [
            "Enter a number: 45\n",
            "100 / num = 2.2222222222222223\n"
          ]
        }
      ]
    },
    {
      "cell_type": "code",
      "source": [
        "!ls"
      ],
      "metadata": {
        "colab": {
          "base_uri": "https://localhost:8080/"
        },
        "id": "Jqfe073sBCed",
        "outputId": "4c0e3b61-fbea-4409-d822-41a643d5cb4d"
      },
      "execution_count": null,
      "outputs": [
        {
          "output_type": "stream",
          "name": "stdout",
          "text": [
            "backup.txt  division_result.txt  sample_data  source.txt\n"
          ]
        }
      ]
    },
    {
      "cell_type": "code",
      "source": [
        "with open(\"backup.txt\", \"r\") as f:\n",
        "    print(f.read())\n"
      ],
      "metadata": {
        "colab": {
          "base_uri": "https://localhost:8080/"
        },
        "id": "ea_IN4-2BHWA",
        "outputId": "33cdfae0-e7d9-4b7f-c1ca-b9089ee0564c"
      },
      "execution_count": null,
      "outputs": [
        {
          "output_type": "stream",
          "name": "stdout",
          "text": [
            "This is the original content.\n",
            "Second line of text.\n"
          ]
        }
      ]
    },
    {
      "cell_type": "code",
      "source": [
        "from google.colab import files\n",
        "files.download(\"backup.txt\")\n"
      ],
      "metadata": {
        "colab": {
          "base_uri": "https://localhost:8080/",
          "height": 17
        },
        "id": "1DepqI7kBI9b",
        "outputId": "c46519b3-590b-4b3f-a25a-b37531bc819d"
      },
      "execution_count": null,
      "outputs": [
        {
          "output_type": "display_data",
          "data": {
            "text/plain": [
              "<IPython.core.display.Javascript object>"
            ],
            "application/javascript": [
              "\n",
              "    async function download(id, filename, size) {\n",
              "      if (!google.colab.kernel.accessAllowed) {\n",
              "        return;\n",
              "      }\n",
              "      const div = document.createElement('div');\n",
              "      const label = document.createElement('label');\n",
              "      label.textContent = `Downloading \"${filename}\": `;\n",
              "      div.appendChild(label);\n",
              "      const progress = document.createElement('progress');\n",
              "      progress.max = size;\n",
              "      div.appendChild(progress);\n",
              "      document.body.appendChild(div);\n",
              "\n",
              "      const buffers = [];\n",
              "      let downloaded = 0;\n",
              "\n",
              "      const channel = await google.colab.kernel.comms.open(id);\n",
              "      // Send a message to notify the kernel that we're ready.\n",
              "      channel.send({})\n",
              "\n",
              "      for await (const message of channel.messages) {\n",
              "        // Send a message to notify the kernel that we're ready.\n",
              "        channel.send({})\n",
              "        if (message.buffers) {\n",
              "          for (const buffer of message.buffers) {\n",
              "            buffers.push(buffer);\n",
              "            downloaded += buffer.byteLength;\n",
              "            progress.value = downloaded;\n",
              "          }\n",
              "        }\n",
              "      }\n",
              "      const blob = new Blob(buffers, {type: 'application/binary'});\n",
              "      const a = document.createElement('a');\n",
              "      a.href = window.URL.createObjectURL(blob);\n",
              "      a.download = filename;\n",
              "      div.appendChild(a);\n",
              "      a.click();\n",
              "      div.remove();\n",
              "    }\n",
              "  "
            ]
          },
          "metadata": {}
        },
        {
          "output_type": "display_data",
          "data": {
            "text/plain": [
              "<IPython.core.display.Javascript object>"
            ],
            "application/javascript": [
              "download(\"download_d7ae9979-9199-4218-9fc9-39c8f492e9c7\", \"backup.txt\", 50)"
            ]
          },
          "metadata": {}
        }
      ]
    },
    {
      "cell_type": "code",
      "source": [],
      "metadata": {
        "id": "EPFCjPX5BPEv"
      },
      "execution_count": null,
      "outputs": []
    }
  ]
}