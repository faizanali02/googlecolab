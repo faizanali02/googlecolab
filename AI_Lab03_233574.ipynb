{
  "nbformat": 4,
  "nbformat_minor": 0,
  "metadata": {
    "colab": {
      "provenance": [],
      "toc_visible": true,
      "authorship_tag": "ABX9TyNsMx1sat1rkymMY54E+ca0",
      "include_colab_link": true
    },
    "kernelspec": {
      "name": "python3",
      "display_name": "Python 3"
    },
    "language_info": {
      "name": "python"
    }
  },
  "cells": [
    {
      "cell_type": "markdown",
      "metadata": {
        "id": "view-in-github",
        "colab_type": "text"
      },
      "source": [
        "<a href=\"https://colab.research.google.com/github/faizanali02/googlecolab/blob/main/AI_Lab03_233574.ipynb\" target=\"_parent\"><img src=\"https://colab.research.google.com/assets/colab-badge.svg\" alt=\"Open In Colab\"/></a>"
      ]
    },
    {
      "cell_type": "code",
      "source": [
        "# Lab 03: Agents in Artificial Intelligence\n",
        "# ------------------------------------------\n",
        "# Tools: Python 3.x\n",
        "# Environment: Jupyter Notebook / Google Colab\n",
        "# Libraries: random, optional matplotlib\n",
        "\n",
        "import random\n",
        "\n",
        "# ----------------------------------------------------\n",
        "# Activity 1: PEAS for Vacuum Cleaner Agent\n",
        "# Performance: % of tiles cleaned in minimum steps\n",
        "# Environment: Grid of clean/dirty tiles\n",
        "# Actuators: Left, Right, Up, Down, Suck\n",
        "# Sensors: Current location & tile status\n",
        "# ----------------------------------------------------"
      ],
      "metadata": {
        "id": "Er5gm5u8AEkj"
      },
      "execution_count": 1,
      "outputs": []
    },
    {
      "cell_type": "code",
      "source": [
        "# Activity 2: Random Vacuum Agent\n",
        "def RandomVacuumAgent():\n",
        "    actions = ['Left', 'Right', 'Suck', 'NoOp']\n",
        "    return random.choice(actions)\n",
        "\n",
        "print(\"Activity 2: Random Agent Test\")\n",
        "for i in range(5):\n",
        "    print(\"Step\", i+1, \"->\", RandomVacuumAgent())\n",
        "print(\"-\"*50)\n",
        "\n",
        "# ----------------------------------------------------"
      ],
      "metadata": {
        "colab": {
          "base_uri": "https://localhost:8080/"
        },
        "id": "dC7Hlax1ALYK",
        "outputId": "b5b794df-0e22-4973-d825-97654fefb6bd"
      },
      "execution_count": 2,
      "outputs": [
        {
          "output_type": "stream",
          "name": "stdout",
          "text": [
            "Activity 2: Random Agent Test\n",
            "Step 1 -> Suck\n",
            "Step 2 -> Left\n",
            "Step 3 -> Right\n",
            "Step 4 -> Right\n",
            "Step 5 -> NoOp\n",
            "--------------------------------------------------\n"
          ]
        }
      ]
    },
    {
      "cell_type": "code",
      "source": [
        "# Activity 3: Reflex Vacuum Agent\n",
        "def ReflexVacuumAgent(location, status):\n",
        "    if status == 'Dirty':\n",
        "        return 'Suck'\n",
        "    elif location == 'A':\n",
        "        return 'Right'\n",
        "    else:\n",
        "        return 'Left'\n",
        "\n",
        "print(\"Activity 3: Reflex Agent Test\")\n",
        "print(\"Test 1:\", ReflexVacuumAgent('A', 'Dirty'))  # Expect: Suck\n",
        "print(\"Test 2:\", ReflexVacuumAgent('A', 'Clean'))  # Expect: Right\n",
        "print(\"Test 3:\", ReflexVacuumAgent('B', 'Clean'))  # Expect: Left\n",
        "print(\"-\"*50)\n",
        "\n",
        "# ----------------------------------------------------"
      ],
      "metadata": {
        "colab": {
          "base_uri": "https://localhost:8080/"
        },
        "id": "RuM4OXY-AP7N",
        "outputId": "cde033b2-9a21-43f6-cc34-ea97d97ceaf0"
      },
      "execution_count": 3,
      "outputs": [
        {
          "output_type": "stream",
          "name": "stdout",
          "text": [
            "Activity 3: Reflex Agent Test\n",
            "Test 1: Suck\n",
            "Test 2: Right\n",
            "Test 3: Left\n",
            "--------------------------------------------------\n"
          ]
        }
      ]
    },
    {
      "cell_type": "code",
      "source": [
        "# Activity 4: Model-based Agent\n",
        "def ModelVacuumAgent(model, location, status):\n",
        "    model[location] = status\n",
        "    if all(state == 'Clean' for state in model.values()):\n",
        "        return 'NoOp'\n",
        "    elif status == 'Dirty':\n",
        "        return 'Suck'\n",
        "    elif location == 'A':\n",
        "        return 'Right'\n",
        "    else:\n",
        "        return 'Left'\n",
        "\n",
        "print(\"Activity 4: Model-based Agent Test\")\n",
        "model = {'A': None, 'B': None}\n",
        "print(\"Test 1:\", ModelVacuumAgent(model, 'A', 'Dirty'))\n",
        "print(\"Test 2:\", ModelVacuumAgent(model, 'B', 'Dirty'))\n",
        "print(\"Test 3:\", ModelVacuumAgent(model, 'A', 'Clean'))\n",
        "print(\"Test 4:\", ModelVacuumAgent(model, 'B', 'Clean'))\n",
        "print(\"Test 5:\", ModelVacuumAgent({'A':'Clean','B':'Clean'}, 'A', 'Clean'))\n",
        "print(\"-\"*50)\n",
        "\n",
        "# ----------------------------------------------------"
      ],
      "metadata": {
        "colab": {
          "base_uri": "https://localhost:8080/"
        },
        "id": "CuWWPsFUATt3",
        "outputId": "ca21e8de-6a15-4598-9765-4a2dc5db1c9b"
      },
      "execution_count": 4,
      "outputs": [
        {
          "output_type": "stream",
          "name": "stdout",
          "text": [
            "Activity 4: Model-based Agent Test\n",
            "Test 1: Suck\n",
            "Test 2: Suck\n",
            "Test 3: Right\n",
            "Test 4: NoOp\n",
            "Test 5: NoOp\n",
            "--------------------------------------------------\n"
          ]
        }
      ]
    },
    {
      "cell_type": "code",
      "source": [
        "# Activity 5: Goal-based Agent\n",
        "def GoalBasedVacuumAgent(room, location):\n",
        "    while 'Dirty' in room.values():\n",
        "        if room[location] == 'Dirty':\n",
        "            room[location] = 'Clean'\n",
        "            print(location, \": Suck\")\n",
        "        location = 'B' if location == 'A' else 'A'\n",
        "    print(\"Goal achieved! Room is clean.\")\n",
        "\n",
        "print(\"Activity 5: Goal-based Agent Test\")\n",
        "room = {'A': 'Dirty', 'B': 'Clean'}\n",
        "GoalBasedVacuumAgent(room, 'A')\n",
        "print(\"-\"*50)\n",
        "\n",
        "# ----------------------------------------------------"
      ],
      "metadata": {
        "colab": {
          "base_uri": "https://localhost:8080/"
        },
        "id": "TByhx3Y-AXqU",
        "outputId": "6fe3e4b6-6a97-48ff-c606-cf66221a97dd"
      },
      "execution_count": 5,
      "outputs": [
        {
          "output_type": "stream",
          "name": "stdout",
          "text": [
            "Activity 5: Goal-based Agent Test\n",
            "A : Suck\n",
            "Goal achieved! Room is clean.\n",
            "--------------------------------------------------\n"
          ]
        }
      ]
    },
    {
      "cell_type": "code",
      "source": [
        "# Activity 6: Utility-based Agent\n",
        "def UtilityBasedAgent(location, status, steps):\n",
        "    utility = 0\n",
        "    if status == 'Dirty':\n",
        "        utility += 10\n",
        "        return 'Suck', utility - steps\n",
        "    else:\n",
        "        return 'Move', utility - steps\n",
        "\n",
        "print(\"Activity 6: Utility-based Agent Test\")\n",
        "print(\"Test 1:\", UtilityBasedAgent('A', 'Dirty', 3))  # Expect: ('Suck', 7)\n",
        "print(\"Test 2:\", UtilityBasedAgent('B', 'Clean', 2))  # Expect: ('Move', -2)\n",
        "print(\"-\"*50)\n",
        "\n",
        "# ----------------------------------------------------"
      ],
      "metadata": {
        "colab": {
          "base_uri": "https://localhost:8080/"
        },
        "id": "LCHNJYqWAa7h",
        "outputId": "bb5dc0a0-5991-4c61-b61e-515ca8bc0012"
      },
      "execution_count": 6,
      "outputs": [
        {
          "output_type": "stream",
          "name": "stdout",
          "text": [
            "Activity 6: Utility-based Agent Test\n",
            "Test 1: ('Suck', 7)\n",
            "Test 2: ('Move', -2)\n",
            "--------------------------------------------------\n"
          ]
        }
      ]
    },
    {
      "cell_type": "code",
      "source": [
        "# Activity 7: Table-driven Agent\n",
        "def TableDrivenVacuumAgent(percepts):\n",
        "    table = {\n",
        "        (('A','Clean'),): 'Right',\n",
        "        (('A','Dirty'),): 'Suck',\n",
        "        (('B','Dirty'),): 'Suck'\n",
        "    }\n",
        "    return table.get(percepts, 'NoOp')\n",
        "\n",
        "print(\"Activity 7: Table-driven Agent Test\")\n",
        "print(\"Test 1:\", TableDrivenVacuumAgent((('A','Dirty'),)))  # Expect: Suck\n",
        "print(\"Test 2:\", TableDrivenVacuumAgent((('A','Clean'),)))  # Expect: Right\n",
        "print(\"Test 3:\", TableDrivenVacuumAgent((('B','Dirty'),)))  # Expect: Suck\n",
        "print(\"Test 4:\", TableDrivenVacuumAgent((('B','Clean'),)))  # Expect: NoOp\n",
        "print(\"-\"*50)\n",
        "\n",
        "# ----------------------------------------------------"
      ],
      "metadata": {
        "colab": {
          "base_uri": "https://localhost:8080/"
        },
        "id": "JGitrkJmAfDg",
        "outputId": "a58c78bd-beae-471b-fccf-aa92da88d89c"
      },
      "execution_count": 7,
      "outputs": [
        {
          "output_type": "stream",
          "name": "stdout",
          "text": [
            "Activity 7: Table-driven Agent Test\n",
            "Test 1: Suck\n",
            "Test 2: Right\n",
            "Test 3: Suck\n",
            "Test 4: NoOp\n",
            "--------------------------------------------------\n"
          ]
        }
      ]
    },
    {
      "cell_type": "code",
      "source": [
        "# Activity 8: Environment Simulator\n",
        "room = {'A': 'Dirty', 'B': 'Dirty'}\n",
        "\n",
        "def run(agent):\n",
        "    for loc in list(room.keys()):\n",
        "        action = agent(loc, room[loc])\n",
        "        print(f\"At {loc} -> {action}\")\n",
        "        if action == 'Suck':\n",
        "            room[loc] = 'Clean'\n",
        "\n",
        "print(\"Activity 8: Run Reflex Agent in Environment\")\n",
        "run(ReflexVacuumAgent)\n",
        "print(\"Room after simulation:\", room)\n",
        "print(\"-\"*50)\n",
        "\n",
        "# ----------------------------------------------------"
      ],
      "metadata": {
        "colab": {
          "base_uri": "https://localhost:8080/"
        },
        "id": "uNbW4FWTAiQ_",
        "outputId": "fe0c579f-0869-42a7-ac39-ef395060cddf"
      },
      "execution_count": 8,
      "outputs": [
        {
          "output_type": "stream",
          "name": "stdout",
          "text": [
            "Activity 8: Run Reflex Agent in Environment\n",
            "At A -> Suck\n",
            "At B -> Suck\n",
            "Room after simulation: {'A': 'Clean', 'B': 'Clean'}\n",
            "--------------------------------------------------\n"
          ]
        }
      ]
    },
    {
      "cell_type": "code",
      "source": [
        "# Activity 9: Performance Comparison Random vs Reflex\n",
        "def RandomVacuumAgent2(location, status):\n",
        "    actions = ['Left', 'Right', 'Suck', 'NoOp']\n",
        "    return random.choice(actions)\n",
        "\n",
        "def ReflexVacuumAgent2(location, status):\n",
        "    if status == 'Dirty':\n",
        "        return 'Suck'\n",
        "    elif location == 'A':\n",
        "        return 'Right'\n",
        "    else:\n",
        "        return 'Left'\n",
        "\n",
        "def run_eval(agent):\n",
        "    room = {'A': 'Dirty', 'B': 'Dirty'}\n",
        "    for loc in list(room.keys()):\n",
        "        action = agent(loc, room[loc])\n",
        "        if action == 'Suck':\n",
        "            room[loc] = 'Clean'\n",
        "    cleaned = sum(1 for state in room.values() if state == 'Clean')\n",
        "    return cleaned\n",
        "\n",
        "print(\"Activity 9: Performance\")\n",
        "print(\"Random Agent cleaned\", run_eval(RandomVacuumAgent2), \"/2 tiles\")\n",
        "print(\"Reflex Agent cleaned\", run_eval(ReflexVacuumAgent2), \"/2 tiles\")\n",
        "print(\"-\"*50)\n",
        "\n",
        "# ----------------------------------------------------"
      ],
      "metadata": {
        "colab": {
          "base_uri": "https://localhost:8080/"
        },
        "id": "YDpgLW-kAljw",
        "outputId": "33490a93-06c0-4809-d169-123aed224b56"
      },
      "execution_count": 9,
      "outputs": [
        {
          "output_type": "stream",
          "name": "stdout",
          "text": [
            "Activity 9: Performance\n",
            "Random Agent cleaned 0 /2 tiles\n",
            "Reflex Agent cleaned 2 /2 tiles\n",
            "--------------------------------------------------\n"
          ]
        }
      ]
    },
    {
      "cell_type": "code",
      "source": [
        "# Fixed Activity 10: Comparative Analysis (All Agents)\n",
        "import random\n",
        "import copy\n",
        "\n",
        "# -----------------------------\n",
        "# Agent implementations\n",
        "# All agents use a consistent interface in the simulator:\n",
        "#   action = agent_func(location, room, model, steps)\n",
        "# model may be None for agents that don't use it.\n",
        "# -----------------------------\n",
        "\n",
        "def RandomVacuumAgent(location, room, model=None, steps=0):\n",
        "    actions = ['Left', 'Right', 'Suck', 'NoOp']\n",
        "    return random.choice(actions)\n",
        "\n",
        "def ReflexVacuumAgent(location, room, model=None, steps=0):\n",
        "    status = room[location]\n",
        "    if status == 'Dirty':\n",
        "        return 'Suck'\n",
        "    elif location == 'A':\n",
        "        return 'Right'\n",
        "    else:\n",
        "        return 'Left'\n",
        "\n",
        "def ModelVacuumAgent(location, room, model, steps=0):\n",
        "    # model is a dict {'A':..., 'B':...}\n",
        "    model[location] = room[location]\n",
        "    if all(state == 'Clean' for state in model.values()):\n",
        "        return 'NoOp'\n",
        "    elif room[location] == 'Dirty':\n",
        "        return 'Suck'\n",
        "    elif location == 'A':\n",
        "        return 'Right'\n",
        "    else:\n",
        "        return 'Left'\n",
        "\n",
        "def GoalBasedVacuumAgent(location, room, model=None, steps=0):\n",
        "    # Goal-based: if current tile dirty -> Suck; else move to other tile\n",
        "    if room[location] == 'Dirty':\n",
        "        return 'Suck'\n",
        "    else:\n",
        "        return 'Right' if location == 'A' else 'Left'\n",
        "\n",
        "def UtilityVacuumAgent(location, room, model=None, steps=0):\n",
        "    # Simple utility policy:\n",
        "    # - If current tile is dirty => Suck (high utility)\n",
        "    # - Otherwise, move to the other tile if it's dirty; else NoOp\n",
        "    if room[location] == 'Dirty':\n",
        "        return 'Suck'\n",
        "    other = 'B' if location == 'A' else 'A'\n",
        "    if room[other] == 'Dirty':\n",
        "        return 'Right' if location == 'A' else 'Left'\n",
        "    return 'NoOp'\n",
        "\n",
        "# -----------------------------\n",
        "# Simulator: run a single agent on a fresh room\n",
        "# -----------------------------\n",
        "def run_agent_once(agent_name, max_steps=10, verbose=False):\n",
        "    initial_room = {'A': 'Dirty', 'B': 'Dirty'}\n",
        "    room = copy.deepcopy(initial_room)\n",
        "    location = 'A'                 # start location\n",
        "    steps = 0\n",
        "    model = {'A': None, 'B': None} # for model-based agent\n",
        "\n",
        "    # Continue until either all clean or max_steps reached\n",
        "    while steps < max_steps and 'Dirty' in room.values():\n",
        "        if agent_name == \"Random\":\n",
        "            action = RandomVacuumAgent(location, room, model, steps)\n",
        "        elif agent_name == \"Reflex\":\n",
        "            action = ReflexVacuumAgent(location, room, model, steps)\n",
        "        elif agent_name == \"Model\":\n",
        "            action = ModelVacuumAgent(location, room, model, steps)\n",
        "        elif agent_name == \"Goal\":\n",
        "            action = GoalBasedVacuumAgent(location, room, model, steps)\n",
        "        elif agent_name == \"Utility\":\n",
        "            action = UtilityVacuumAgent(location, room, model, steps)\n",
        "        else:\n",
        "            raise ValueError(\"Unknown agent: \" + str(agent_name))\n",
        "\n",
        "        steps += 1\n",
        "\n",
        "        # Apply action to environment\n",
        "        if action == 'Suck':\n",
        "            room[location] = 'Clean'\n",
        "            if verbose: print(f\"Step {steps}: {agent_name} -> Suck at {location}\")\n",
        "        elif action == 'Right':\n",
        "            if location == 'A':\n",
        "                location = 'B'\n",
        "            if verbose: print(f\"Step {steps}: {agent_name} -> Move Right to {location}\")\n",
        "        elif action == 'Left':\n",
        "            if location == 'B':\n",
        "                location = 'A'\n",
        "            if verbose: print(f\"Step {steps}: {agent_name} -> Move Left to {location}\")\n",
        "        elif action == 'NoOp':\n",
        "            if verbose: print(f\"Step {steps}: {agent_name} -> NoOp (doing nothing)\")\n",
        "        else:\n",
        "            if verbose: print(f\"Step {steps}: {agent_name} -> Unknown action '{action}' (treated as NoOp)\")\n",
        "\n",
        "    cleaned = sum(1 for v in room.values() if v == 'Clean')\n",
        "    return {\n",
        "        \"Agent\": f\"{agent_name} Agent\",\n",
        "        \"Tiles Cleaned\": f\"{int((cleaned/2)*100)}%\",\n",
        "        \"Steps\": steps,\n",
        "        \"Rational?\": \"Yes\" if cleaned == 2 else (\"Partial\" if cleaned == 1 else \"No\")\n",
        "    }\n",
        "\n",
        "# -----------------------------\n",
        "# Run comparison for all agents\n",
        "# -----------------------------\n",
        "agents = [\"Random\", \"Reflex\", \"Model\", \"Goal\", \"Utility\"]\n",
        "results = [run_agent_once(a) for a in agents]\n",
        "\n",
        "# Print table\n",
        "print(\"Agent Type\\t\\tTiles Cleaned\\tSteps\\tRational?\")\n",
        "print(\"-\"*60)\n",
        "for r in results:\n",
        "    print(f\"{r['Agent']:<16}\\t{r['Tiles Cleaned']:<12}\\t{r['Steps']:<5}\\t{r['Rational?']}\")\n"
      ],
      "metadata": {
        "colab": {
          "base_uri": "https://localhost:8080/"
        },
        "id": "pTdN82odDupK",
        "outputId": "ee9ca903-651d-4f69-b91a-90ba1772f2a1"
      },
      "execution_count": 10,
      "outputs": [
        {
          "output_type": "stream",
          "name": "stdout",
          "text": [
            "Agent Type\t\tTiles Cleaned\tSteps\tRational?\n",
            "------------------------------------------------------------\n",
            "Random Agent    \t50%         \t10   \tPartial\n",
            "Reflex Agent    \t100%        \t3    \tYes\n",
            "Model Agent     \t100%        \t3    \tYes\n",
            "Goal Agent      \t100%        \t3    \tYes\n",
            "Utility Agent   \t100%        \t3    \tYes\n"
          ]
        }
      ]
    },
    {
      "cell_type": "code",
      "source": [
        "# Maze Solver Agent (Goal-based)\n",
        "\n",
        "from collections import deque\n",
        "import matplotlib.pyplot as plt\n",
        "import numpy as np\n",
        "\n",
        "# ---------------------------\n",
        "# 1. Define Maze\n",
        "# 0 = Free space\n",
        "# 1 = Wall\n",
        "# S = Start\n",
        "# G = Goal\n",
        "# ---------------------------\n",
        "maze = [\n",
        "    [0, 1, 0, 0, 0, 0],\n",
        "    [0, 1, 0, 1, 1, 0],\n",
        "    [0, 0, 0, 1, 0, 0],\n",
        "    [1, 1, 0, 0, 0, 1],\n",
        "    [0, 0, 0, 1, 0, 0],\n",
        "]\n",
        "\n",
        "start = (0, 0)   # Top-left corner\n",
        "goal  = (4, 5)   # Bottom-right corner\n",
        "\n",
        "rows, cols = len(maze), len(maze[0])\n",
        "\n",
        "# ---------------------------\n",
        "# 2. Goal-based Agent (BFS)\n",
        "# ---------------------------\n",
        "def bfs(start, goal):\n",
        "    queue = deque([(start, [start])])  # (current, path)\n",
        "    visited = set([start])\n",
        "\n",
        "    while queue:\n",
        "        (x, y), path = queue.popleft()\n",
        "        if (x, y) == goal:\n",
        "            return path  # Found goal\n",
        "\n",
        "        # possible moves (up, down, left, right)\n",
        "        moves = [(0,1), (1,0), (0,-1), (-1,0)]\n",
        "        for dx, dy in moves:\n",
        "            nx, ny = x + dx, y + dy\n",
        "            if 0 <= nx < rows and 0 <= ny < cols and maze[nx][ny] == 0 and (nx, ny) not in visited:\n",
        "                queue.append(((nx, ny), path + [(nx, ny)]))\n",
        "                visited.add((nx, ny))\n",
        "    return None\n",
        "\n",
        "path = bfs(start, goal)\n",
        "print(\"Path found by Goal-based Agent:\", path)\n",
        "\n",
        "# ---------------------------\n",
        "# 3. Visualization\n",
        "# ---------------------------\n",
        "def draw_maze(maze, path):\n",
        "    grid = np.array(maze)\n",
        "    plt.figure(figsize=(6,6))\n",
        "    plt.imshow(grid, cmap=\"binary\")  # black=wall, white=free\n",
        "\n",
        "    # Mark path\n",
        "    if path:\n",
        "        px, py = zip(*path)\n",
        "        plt.plot(py, px, color=\"red\", linewidth=2, marker=\"o\")\n",
        "\n",
        "    # Mark start and goal\n",
        "    plt.text(start[1], start[0], 'S', ha='center', va='center', color=\"green\", fontsize=14, fontweight=\"bold\")\n",
        "    plt.text(goal[1], goal[0], 'G', ha='center', va='center', color=\"blue\", fontsize=14, fontweight=\"bold\")\n",
        "\n",
        "    plt.gca().invert_yaxis()\n",
        "    plt.show()\n",
        "\n",
        "draw_maze(maze, path)\n"
      ],
      "metadata": {
        "colab": {
          "base_uri": "https://localhost:8080/",
          "height": 465
        },
        "id": "meBE40kDWc5j",
        "outputId": "583299b5-1659-48c6-8c69-ca41129a69bf"
      },
      "execution_count": 1,
      "outputs": [
        {
          "output_type": "stream",
          "name": "stdout",
          "text": [
            "Path found by Goal-based Agent: [(0, 0), (1, 0), (2, 0), (2, 1), (2, 2), (3, 2), (3, 3), (3, 4), (4, 4), (4, 5)]\n"
          ]
        },
        {
          "output_type": "display_data",
          "data": {
            "text/plain": [
              "<Figure size 600x600 with 1 Axes>"
            ],
            "image/png": "[encoded data removed]"
          },
          "metadata": {}
        }
      ]
    }
  ]
}