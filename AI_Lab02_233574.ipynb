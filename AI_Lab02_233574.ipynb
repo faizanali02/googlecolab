{
  "nbformat": 4,
  "nbformat_minor": 0,
  "metadata": {
    "colab": {
      "provenance": [],
      "authorship_tag": "ABX9TyOwsaxFyV9ryZA05QsF+YFH",
      "include_colab_link": true
    },
    "kernelspec": {
      "name": "python3",
      "display_name": "Python 3"
    },
    "language_info": {
      "name": "python"
    }
  },
  "cells": [
    {
      "cell_type": "markdown",
      "metadata": {
        "id": "view-in-github",
        "colab_type": "text"
      },
      "source": [
        "<a href=\"https://colab.research.google.com/github/faizanali02/googlecolab/blob/main/AI_Lab02_233574.ipynb\" target=\"_parent\"><img src=\"https://colab.research.google.com/assets/colab-badge.svg\" alt=\"Open In Colab\"/></a>"
      ]
    },
    {
      "cell_type": "code",
      "execution_count": null,
      "metadata": {
        "id": "DCokJTUB_zel"
      },
      "outputs": [],
      "source": [
        "# Create a sample source.txt file\n",
        "with open(\"source.txt\", \"w\") as f:\n",
        "    f.write(\"This is the original content.\\n\")\n",
        "    f.write(\"Second line of text.\")\n"
      ]
    },
    {
      "cell_type": "code",
      "source": [
        "def copy_file(src, dest):\n",
        "    try:\n",
        "        with open(src, \"r\", encoding=\"utf-8\") as infile, open(dest, \"w\", encoding=\"utf-8\") as outfile:\n",
        "            outfile.write(infile.read())\n",
        "        print(f\"Copied content from {src} to {dest}\")\n",
        "    except FileNotFoundError:\n",
        "        print(f\"Error: {src} not found.\")\n",
        "\n",
        "# Test\n",
        "copy_file(\"source.txt\", \"backup.txt\")\n"
      ],
      "metadata": {
        "colab": {
          "base_uri": "https://localhost:8080/"
        },
        "id": "3vMPca6cAjEW",
        "outputId": "699cb4db-a610-4de1-ae2a-d30bce9653c2"
      },
      "execution_count": null,
      "outputs": [
        {
          "output_type": "stream",
          "name": "stdout",
          "text": [
            "Copied content from source.txt to backup.txt\n"
          ]
        }
      ]
    },
    {
      "cell_type": "code",
      "source": [
        "def word_count(filename):\n",
        "    try:\n",
        "        with open(filename, \"r\", encoding=\"utf-8\") as f:\n",
        "            text = f.read()\n",
        "            words = text.split()\n",
        "            print(f\"Word count: {len(words)}\")\n",
        "    except FileNotFoundError:\n",
        "        print(\"File not found!\")\n",
        "\n",
        "# Test\n",
        "word_count(\"source.txt\")\n"
      ],
      "metadata": {
        "colab": {
          "base_uri": "https://localhost:8080/"
        },
        "id": "Oypot0QlAlYN",
        "outputId": "2d3049de-d591-4a84-980c-56ab447faa12"
      },
      "execution_count": null,
      "outputs": [
        {
          "output_type": "stream",
          "name": "stdout",
          "text": [
            "Word count: 9\n"
          ]
        }
      ]
    },
    {
      "cell_type": "code",
      "source": [
        "filename = input(\"Enter marks file name: \")\n",
        "\n",
        "try:\n",
        "    with open(filename, \"r\", encoding=\"utf-8\") as f:\n",
        "        print(\"File Content:\\n\", f.read())\n",
        "except FileNotFoundError:\n",
        "    with open(filename, \"w\", encoding=\"utf-8\") as f:\n",
        "        f.write(\"No marks recorded\")\n",
        "    print(f\"{filename} not found, so created with default message.\")\n"
      ],
      "metadata": {
        "colab": {
          "base_uri": "https://localhost:8080/"
        },
        "id": "IkkHtNlHAoLi",
        "outputId": "b019a71a-494e-4bae-ccb6-7d012c63a44e"
      },
      "execution_count": null,
      "outputs": [
        {
          "output_type": "stream",
          "name": "stdout",
          "text": [
            "Enter marks file name: marks.csv\n",
            "marks.csv not found, so created with default message.\n"
          ]
        }
      ]
    },
    {
      "cell_type": "code",
      "source": [
        "def safe_division():\n",
        "    try:\n",
        "        a = float(input(\"Enter first number: \"))\n",
        "        b = float(input(\"Enter second number: \"))\n",
        "        result = a / b\n",
        "        with open(\"division_result.txt\", \"w\", encoding=\"utf-8\") as f:\n",
        "            f.write(f\"Result: {result}\")\n",
        "        print(\"Division successful. Result saved to division_result.txt\")\n",
        "    except ZeroDivisionError:\n",
        "        print(\"Error: Cannot divide by zero.\")\n",
        "    except ValueError:\n",
        "        print(\"Error: Please enter valid numbers.\")\n",
        "\n",
        "safe_division()\n"
      ],
      "metadata": {
        "colab": {
          "base_uri": "https://localhost:8080/"
        },
        "id": "nMHyED67A2R7",
        "outputId": "c81a1b07-0649-458f-aba7-cf03b88077af"
      },
      "execution_count": null,
      "outputs": [
        {
          "output_type": "stream",
          "name": "stdout",
          "text": [
            "Enter first number: 1\n",
            "Enter second number: 5\n",
            "Division successful. Result saved to division_result.txt\n"
          ]
        }
      ]
    },
    {
      "cell_type": "code",
      "source": [
        "import logging\n",
        "\n",
        "logging.basicConfig(filename=\"errors.log\", level=logging.ERROR,\n",
        "                    format=\"%(asctime)s - %(levelname)s - %(message)s\")\n",
        "\n",
        "def risky_task():\n",
        "    try:\n",
        "        num = int(input(\"Enter a number: \"))\n",
        "        print(\"100 / num =\", 100 / num)\n",
        "    except Exception as e:\n",
        "        logging.error(f\"Error occurred: {e}\")\n",
        "        print(f\"Email sent to admin: {e}\")\n",
        "\n",
        "risky_task()\n"
      ],
      "metadata": {
        "colab": {
          "base_uri": "https://localhost:8080/"
        },
        "id": "YAw-am0FA-Oh",
        "outputId": "83b3ef37-1c0b-47a0-e900-23960f388d5d"
      },
      "execution_count": null,
      "outputs": [
        {
          "output_type": "stream",
          "name": "stdout",
          "text": [
            "Enter a number: 45\n",
            "100 / num = 2.2222222222222223\n"
          ]
        }
      ]
    },
    {
      "cell_type": "code",
      "source": [
        "!ls"
      ],
      "metadata": {
        "colab": {
          "base_uri": "https://localhost:8080/"
        },
        "id": "Jqfe073sBCed",
        "outputId": "4c0e3b61-fbea-4409-d822-41a643d5cb4d"
      },
      "execution_count": null,
      "outputs": [
        {
          "output_type": "stream",
          "name": "stdout",
          "text": [
            "backup.txt  division_result.txt  sample_data  source.txt\n"
          ]
        }
      ]
    },
    {
      "cell_type": "code",
      "source": [
        "with open(\"backup.txt\", \"r\") as f:\n",
        "    print(f.read())\n"
      ],
      "metadata": {
        "colab": {
          "base_uri": "https://localhost:8080/"
        },
        "id": "ea_IN4-2BHWA",
        "outputId": "17d04bd9-36db-445d-f15a-cc5ee6b62916"
      },
      "execution_count": 12,
      "outputs": [
        {
          "output_type": "stream",
          "name": "stdout",
          "text": [
            "This is the original content.\n",
            "Second line of text.\n"
          ]
        }
      ]
    },
    {
      "cell_type": "code",
      "source": [
        "from google.colab import files\n",
        "files.download(\"backup.txt\")\n"
      ],
      "metadata": {
        "colab": {
          "base_uri": "https://localhost:8080/",
          "height": 17
        },
        "id": "1DepqI7kBI9b",
        "outputId": "c46519b3-590b-4b3f-a25a-b37531bc819d"
      },
      "execution_count": null,
      "outputs": [
        {
          "output_type": "display_data",
          "data": {
            "text/plain": [
              "<IPython.core.display.Javascript object>"
            ],
            "application/javascript": [
              "\n",
              "    async function download(id, filename, size) {\n",
              "      if (!google.colab.kernel.accessAllowed) {\n",
              "        return;\n",
              "      }\n",
              "      const div = document.createElement('div');\n",
              "      const label = document.createElement('label');\n",
              "      label.textContent = `Downloading \"${filename}\": `;\n",
              "      div.appendChild(label);\n",
              "      const progress = document.createElement('progress');\n",
              "      progress.max = size;\n",
              "      div.appendChild(progress);\n",
              "      document.body.appendChild(div);\n",
              "\n",
              "      const buffers = [];\n",
              "      let downloaded = 0;\n",
              "\n",
              "      const channel = await google.colab.kernel.comms.open(id);\n",
              "      // Send a message to notify the kernel that we're ready.\n",
              "      channel.send({})\n",
              "\n",
              "      for await (const message of channel.messages) {\n",
              "        // Send a message to notify the kernel that we're ready.\n",
              "        channel.send({})\n",
              "        if (message.buffers) {\n",
              "          for (const buffer of message.buffers) {\n",
              "            buffers.push(buffer);\n",
              "            downloaded += buffer.byteLength;\n",
              "            progress.value = downloaded;\n",
              "          }\n",
              "        }\n",
              "      }\n",
              "      const blob = new Blob(buffers, {type: 'application/binary'});\n",
              "      const a = document.createElement('a');\n",
              "      a.href = window.URL.createObjectURL(blob);\n",
              "      a.download = filename;\n",
              "      div.appendChild(a);\n",
              "      a.click();\n",
              "      div.remove();\n",
              "    }\n",
              "  "
            ]
          },
          "metadata": {}
        },
        {
          "output_type": "display_data",
          "data": {
            "text/plain": [
              "<IPython.core.display.Javascript object>"
            ],
            "application/javascript": [
              "download(\"download_d7ae9979-9199-4218-9fc9-39c8f492e9c7\", \"backup.txt\", 50)"
            ]
          },
          "metadata": {}
        }
      ]
    },
    {
      "cell_type": "code",
      "source": [
        "import os, glob, csv, json, logging\n"
      ],
      "metadata": {
        "id": "EPFCjPX5BPEv"
      },
      "execution_count": 13,
      "outputs": []
    },
    {
      "cell_type": "code",
      "source": [
        "with open(\"notes.txt\", \"w\") as file:\n",
        "    file.write(\"Welcome to the File Handling Lab!\\n\")\n",
        "    file.write(\"This is the first line of text.\")\n",
        "print(\"File created and text written successfully.\")\n"
      ],
      "metadata": {
        "colab": {
          "base_uri": "https://localhost:8080/"
        },
        "id": "s1dFZ4c3RX15",
        "outputId": "ecefbf83-423a-42fd-ccd1-59e8bfde3e28"
      },
      "execution_count": 14,
      "outputs": [
        {
          "output_type": "stream",
          "name": "stdout",
          "text": [
            "File created and text written successfully.\n"
          ]
        }
      ]
    },
    {
      "cell_type": "code",
      "source": [
        "with open(\"notes.txt\", \"r\") as file:\n",
        "    content = file.read()\n",
        "print(\"File Content:\\n\", content)\n"
      ],
      "metadata": {
        "colab": {
          "base_uri": "https://localhost:8080/"
        },
        "id": "7jRWNZpyRZKv",
        "outputId": "4dea2afb-f5bd-457a-edf3-25c4f56a1738"
      },
      "execution_count": 15,
      "outputs": [
        {
          "output_type": "stream",
          "name": "stdout",
          "text": [
            "File Content:\n",
            " Welcome to the File Handling Lab!\n",
            "This is the first line of text.\n"
          ]
        }
      ]
    },
    {
      "cell_type": "code",
      "source": [
        "with open(\"notes.txt\", \"a\") as file:\n",
        "    file.write(\"\\nThis line was appended later.\")\n"
      ],
      "metadata": {
        "id": "sLwEwsuORbhn"
      },
      "execution_count": 16,
      "outputs": []
    },
    {
      "cell_type": "code",
      "source": [
        "with open(\"notes.txt\", \"r\") as file:\n",
        "    for line in file:\n",
        "        print(line.strip())\n"
      ],
      "metadata": {
        "colab": {
          "base_uri": "https://localhost:8080/"
        },
        "id": "FvSg5k0qRd_m",
        "outputId": "7c98097d-7e0f-4a5c-ba61-4c038874cf7a"
      },
      "execution_count": 17,
      "outputs": [
        {
          "output_type": "stream",
          "name": "stdout",
          "text": [
            "Welcome to the File Handling Lab!\n",
            "This is the first line of text.\n",
            "This line was appended later.\n"
          ]
        }
      ]
    },
    {
      "cell_type": "code",
      "source": [
        "try:\n",
        "    with open(\"nofile.txt\", \"r\") as f:\n",
        "        print(f.read())\n",
        "except FileNotFoundError:\n",
        "    print(\"Error: The file does not exist!\")\n"
      ],
      "metadata": {
        "colab": {
          "base_uri": "https://localhost:8080/"
        },
        "id": "_cb2LcPrRiUx",
        "outputId": "9ede8dc4-a103-4ca3-edbf-29eff1e8a970"
      },
      "execution_count": 18,
      "outputs": [
        {
          "output_type": "stream",
          "name": "stdout",
          "text": [
            "Error: The file does not exist!\n"
          ]
        }
      ]
    },
    {
      "cell_type": "code",
      "source": [
        "try:\n",
        "    number = int(input(\"Enter a number: \"))\n",
        "    result = 10 / number\n",
        "    print(\"Result:\", result)\n",
        "except ValueError:\n",
        "    print(\"Invalid input! Please enter a number.\")\n",
        "except ZeroDivisionError:\n",
        "    print(\"Division by zero is not allowed.\")\n",
        "finally:\n",
        "    print(\"Operation Completed.\")\n"
      ],
      "metadata": {
        "colab": {
          "base_uri": "https://localhost:8080/"
        },
        "id": "kGTQ1JVxRjlL",
        "outputId": "aec4c7b1-175a-47db-88d0-409abd4931cf"
      },
      "execution_count": 20,
      "outputs": [
        {
          "output_type": "stream",
          "name": "stdout",
          "text": [
            "Enter a number: 10\n",
            "Result: 1.0\n",
            "Operation Completed.\n"
          ]
        }
      ]
    },
    {
      "cell_type": "code",
      "source": [
        "os.makedirs(\"myfolder\", exist_ok=True)\n",
        "with open(\"myfolder/file1.txt\", \"w\") as f: f.write(\"Hello from file1\")\n",
        "with open(\"myfolder/file2.txt\", \"w\") as f: f.write(\"Hello from file2\")\n"
      ],
      "metadata": {
        "id": "EahAW1k-RsOV"
      },
      "execution_count": 21,
      "outputs": []
    },
    {
      "cell_type": "code",
      "source": [
        "def file_stats(filename):\n",
        "    try:\n",
        "        with open(filename, \"r\", encoding=\"utf-8\") as f:\n",
        "            text = f.read()\n",
        "        lines = text.splitlines()\n",
        "        words = text.split()\n",
        "        print(f\"Lines: {len(lines)}, Words: {len(words)}, Characters: {len(text)}\")\n",
        "    except FileNotFoundError:\n",
        "        print(\"Error: File not found.\")\n",
        "\n",
        "file_stats(\"notes.txt\")\n"
      ],
      "metadata": {
        "colab": {
          "base_uri": "https://localhost:8080/"
        },
        "id": "Lhtd-lQORwAR",
        "outputId": "49f0ead1-ee59-47bc-fba5-fb5d2675a46e"
      },
      "execution_count": 22,
      "outputs": [
        {
          "output_type": "stream",
          "name": "stdout",
          "text": [
            "Lines: 3, Words: 18, Characters: 95\n"
          ]
        }
      ]
    },
    {
      "cell_type": "code",
      "source": [
        "def merge_text_files(folder, output_file):\n",
        "    with open(output_file, \"w\", encoding=\"utf-8\") as outfile:\n",
        "        for txt_file in glob.glob(os.path.join(folder, \"*.txt\")):\n",
        "            try:\n",
        "                with open(txt_file, \"r\", encoding=\"utf-8\") as infile:\n",
        "                    outfile.write(infile.read() + \"\\n\")\n",
        "            except Exception as e:\n",
        "                print(f\"Skipped {txt_file}: {e}\")\n",
        "\n",
        "merge_text_files(\"myfolder\", \"merged_output.txt\")\n",
        "print(open(\"merged_output.txt\").read())\n"
      ],
      "metadata": {
        "colab": {
          "base_uri": "https://localhost:8080/"
        },
        "id": "7OQGY6YJRyfY",
        "outputId": "1b62c99a-3d56-4f43-b75d-51493647344f"
      },
      "execution_count": 23,
      "outputs": [
        {
          "output_type": "stream",
          "name": "stdout",
          "text": [
            "Hello from file1\n",
            "Hello from file2\n",
            "\n"
          ]
        }
      ]
    },
    {
      "cell_type": "code",
      "source": [
        "csv_data = \"\"\"Name,Math,Science,English,History\n",
        "Alice,85,92,88,90\n",
        "Bob,78,abc,83,76\n",
        "Charlie,95,89,91,NaN\n",
        "Diana,88,93,87,82\n",
        "Ethan,90,85,xyz,88\"\"\"\n",
        "\n",
        "with open(\"marks.csv\", \"w\") as f:\n",
        "    f.write(csv_data)\n",
        "\n",
        "def analyze_csv(file):\n",
        "    try:\n",
        "        with open(file, newline='', encoding=\"utf-8\") as f:\n",
        "            reader = csv.DictReader(f)\n",
        "            totals, counts = {}, {}\n",
        "            for row in reader:\n",
        "                for subject, mark in row.items():\n",
        "                    if subject != 'Name':\n",
        "                        try:\n",
        "                            mark = float(mark)\n",
        "                            totals[subject] = totals.get(subject, 0) + mark\n",
        "                            counts[subject] = counts.get(subject, 0) + 1\n",
        "                        except ValueError:\n",
        "                            print(f\"Invalid mark in row: {row}\")\n",
        "            for subject in totals:\n",
        "                print(f\"{subject}: {totals[subject]/counts[subject]:.2f}\")\n",
        "    except FileNotFoundError:\n",
        "        print(\"CSV file not found.\")\n",
        "\n",
        "analyze_csv(\"marks.csv\")\n"
      ],
      "metadata": {
        "colab": {
          "base_uri": "https://localhost:8080/"
        },
        "id": "0nKykjIHR2GK",
        "outputId": "1f6e1701-aef5-4962-b322-479d276b846c"
      },
      "execution_count": 24,
      "outputs": [
        {
          "output_type": "stream",
          "name": "stdout",
          "text": [
            "Invalid mark in row: {'Name': 'Bob', 'Math': '78', 'Science': 'abc', 'English': '83', 'History': '76'}\n",
            "Invalid mark in row: {'Name': 'Ethan', 'Math': '90', 'Science': '85', 'English': 'xyz', 'History': '88'}\n",
            "Math: 87.20\n",
            "Science: 89.75\n",
            "English: 87.25\n",
            "History: nan\n"
          ]
        }
      ]
    },
    {
      "cell_type": "code",
      "source": [
        "config_data = {\n",
        "    \"theme\": \"dark\",\n",
        "    \"autosave\": False,\n",
        "    \"interval\": 10,\n",
        "    \"language\": \"en\",\n",
        "    \"notifications\": True\n",
        "}\n",
        "with open(\"config.json\", \"w\") as f:\n",
        "    json.dump(config_data, f)\n",
        "\n",
        "def load_config(path):\n",
        "    default_config = {\"theme\": \"light\", \"autosave\": True, \"interval\": 5}\n",
        "    try:\n",
        "        with open(path, \"r\", encoding=\"utf-8\") as f:\n",
        "            return json.load(f)\n",
        "    except (FileNotFoundError, json.JSONDecodeError) as e:\n",
        "        print(f\"Config error ({e}), using defaults.\")\n",
        "        return default_config\n",
        "\n",
        "config = load_config(\"config.json\")\n",
        "print(\"Configuration Loaded:\", config)\n"
      ],
      "metadata": {
        "colab": {
          "base_uri": "https://localhost:8080/"
        },
        "id": "fAeCNk5jR4DB",
        "outputId": "1d4d19ce-59a9-410a-8c73-0737f7f13b7d"
      },
      "execution_count": 25,
      "outputs": [
        {
          "output_type": "stream",
          "name": "stdout",
          "text": [
            "Configuration Loaded: {'theme': 'dark', 'autosave': False, 'interval': 10, 'language': 'en', 'notifications': True}\n"
          ]
        }
      ]
    },
    {
      "cell_type": "code",
      "source": [
        "with open(\"source.txt\", \"w\") as f:\n",
        "    f.write(\"This is the source file.\")\n",
        "\n",
        "with open(\"source.txt\", \"r\") as src, open(\"backup.txt\", \"w\") as dst:\n",
        "    dst.write(src.read())\n",
        "\n",
        "print(\"Backup created:\", open(\"backup.txt\").read())\n"
      ],
      "metadata": {
        "colab": {
          "base_uri": "https://localhost:8080/"
        },
        "id": "c3rR3iCqR63k",
        "outputId": "0757db98-9355-4ed9-fa9c-489492a13c78"
      },
      "execution_count": 29,
      "outputs": [
        {
          "output_type": "stream",
          "name": "stdout",
          "text": [
            "Backup created: This is the source file.\n"
          ]
        }
      ]
    },
    {
      "cell_type": "code",
      "source": [],
      "metadata": {
        "id": "yt45bxwISOF7"
      },
      "execution_count": null,
      "outputs": []
    }
  ]
}